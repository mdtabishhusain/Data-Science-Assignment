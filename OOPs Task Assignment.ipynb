{
 "cells": [
  {
   "cell_type": "markdown",
   "id": "f3913353-90e5-4503-8279-0188dcc22bf4",
   "metadata": {},
   "source": [
    "### Q1. \n",
    "#### Create a vehicle class with an init method having instance variables as name_of_vehicle, max_speed and average_of_vehicle."
   ]
  },
  {
   "cell_type": "code",
   "execution_count": 17,
   "id": "e291dbf5-c389-4dc9-9d43-5eafb0a3f253",
   "metadata": {},
   "outputs": [],
   "source": [
    "class vehicle:\n",
    "    def __init__(self, name_of_vehicle, max_speed, average_of_vehicle):\n",
    "        self.name_of_vehicle = name_of_vehicle\n",
    "        self.max_speed = max_speed\n",
    "        self.average_of_vehicle = average_of_vehicle"
   ]
  },
  {
   "cell_type": "code",
   "execution_count": 18,
   "id": "694faa4a-1563-4455-8b8d-a000b9f3e255",
   "metadata": {},
   "outputs": [],
   "source": [
    "car = vehicle(\"maruti\", 120, 25)"
   ]
  },
  {
   "cell_type": "code",
   "execution_count": 19,
   "id": "35c37a57-cb7e-4ac6-be0b-c308d80d0e26",
   "metadata": {},
   "outputs": [
    {
     "data": {
      "text/plain": [
       "'maruti'"
      ]
     },
     "execution_count": 19,
     "metadata": {},
     "output_type": "execute_result"
    }
   ],
   "source": [
    "car.name_of_vehicle"
   ]
  },
  {
   "cell_type": "code",
   "execution_count": 20,
   "id": "cb4f442e-6194-4f3a-861f-5bf632a07d41",
   "metadata": {},
   "outputs": [
    {
     "data": {
      "text/plain": [
       "120"
      ]
     },
     "execution_count": 20,
     "metadata": {},
     "output_type": "execute_result"
    }
   ],
   "source": [
    "car.max_speed"
   ]
  },
  {
   "cell_type": "code",
   "execution_count": 21,
   "id": "13ce17ae-c442-4d24-b839-081f6688904f",
   "metadata": {},
   "outputs": [
    {
     "data": {
      "text/plain": [
       "25"
      ]
     },
     "execution_count": 21,
     "metadata": {},
     "output_type": "execute_result"
    }
   ],
   "source": [
    "car.average_of_vehicle"
   ]
  },
  {
   "cell_type": "markdown",
   "id": "773c0a84-8a80-488a-a8bc-e49166bb02b6",
   "metadata": {},
   "source": [
    "### Q2.\n",
    "#### Create a child class car from the vehicle class created in Que 1, which will inherit the vehicle class. Create a method named seating_capacity which takes capacity as an argument and returns the name of the vehicle and its seating capacity."
   ]
  },
  {
   "cell_type": "code",
   "execution_count": 22,
   "id": "bfb1f3eb-074f-4919-88c7-7372e965b3cc",
   "metadata": {},
   "outputs": [],
   "source": [
    "class car (vehicle):\n",
    "    def seating_capacity(self, capacity):\n",
    "        return capacity, self.name_of_vehicle"
   ]
  },
  {
   "cell_type": "code",
   "execution_count": 23,
   "id": "af446594-2200-47c6-9ebd-9de276030b0d",
   "metadata": {},
   "outputs": [],
   "source": [
    "car1 = car(\"Honda\",180,20)"
   ]
  },
  {
   "cell_type": "code",
   "execution_count": 24,
   "id": "2ba77056-af40-43b4-9359-ea99d648606d",
   "metadata": {},
   "outputs": [
    {
     "data": {
      "text/plain": [
       "'Honda'"
      ]
     },
     "execution_count": 24,
     "metadata": {},
     "output_type": "execute_result"
    }
   ],
   "source": [
    "car1.name_of_vehicle"
   ]
  },
  {
   "cell_type": "code",
   "execution_count": 25,
   "id": "656f1877-bd9d-455a-a9b5-d3f59baa303e",
   "metadata": {},
   "outputs": [
    {
     "data": {
      "text/plain": [
       "(5, 'Honda')"
      ]
     },
     "execution_count": 25,
     "metadata": {},
     "output_type": "execute_result"
    }
   ],
   "source": [
    "car1.seating_capacity(5)"
   ]
  },
  {
   "cell_type": "markdown",
   "id": "18407626-026e-48a1-a951-12b71f97ff30",
   "metadata": {
    "jp-MarkdownHeadingCollapsed": true,
    "tags": []
   },
   "source": [
    "### Q3. \n",
    "#### What is multiple inheritance? Write a python code to demonstrate multiple inheritance."
   ]
  },
  {
   "cell_type": "markdown",
   "id": "3927f720-880a-4874-b84e-58e413175d25",
   "metadata": {},
   "source": [
    "### Answer"
   ]
  },
  {
   "cell_type": "markdown",
   "id": "6210646a-ea87-4897-9663-9b59fa74dae6",
   "metadata": {},
   "source": [
    "Multiple Inheritance is the process of inheriting methods of multiple separate classes into a singular class."
   ]
  },
  {
   "cell_type": "markdown",
   "id": "71749c80-637f-4b15-9feb-e779d6b0582b",
   "metadata": {},
   "source": [
    "For Example:"
   ]
  },
  {
   "cell_type": "code",
   "execution_count": 26,
   "id": "81b31846-32fc-4f11-a442-e3bfe99c3d0f",
   "metadata": {},
   "outputs": [],
   "source": [
    "class bike:\n",
    "    def __init__(self, bike_name):\n",
    "        self.bike_name = bike_name\n",
    "        \n",
    "class mode:\n",
    "    def sports(self):\n",
    "        print(f\"{self.bike_name} bike is in sports mode\")\n",
    "        \n",
    "    def standard(self):\n",
    "        print(f\"{self.bike_name} bike is a standard mode\")\n",
    "\n",
    "class bike_info(bike, mode):\n",
    "    pass"
   ]
  },
  {
   "cell_type": "code",
   "execution_count": 27,
   "id": "14afdc78-4724-4ce3-8b28-cb6e5bd58bf9",
   "metadata": {},
   "outputs": [],
   "source": [
    "new_bike = bike_info(\"Hero\")"
   ]
  },
  {
   "cell_type": "code",
   "execution_count": 30,
   "id": "851a9fce-1cbe-44d8-8e00-d26229399bf3",
   "metadata": {},
   "outputs": [
    {
     "data": {
      "text/plain": [
       "'Hero'"
      ]
     },
     "execution_count": 30,
     "metadata": {},
     "output_type": "execute_result"
    }
   ],
   "source": [
    "new_bike.bike_name"
   ]
  },
  {
   "cell_type": "code",
   "execution_count": 31,
   "id": "427252eb-1016-49ae-bc43-53d451243475",
   "metadata": {},
   "outputs": [
    {
     "name": "stdout",
     "output_type": "stream",
     "text": [
      "Hero bike is in sports mode\n"
     ]
    }
   ],
   "source": [
    "new_bike.sports()"
   ]
  },
  {
   "cell_type": "code",
   "execution_count": 32,
   "id": "6001195d-bad7-43cd-8cca-6c05b649123e",
   "metadata": {},
   "outputs": [
    {
     "name": "stdout",
     "output_type": "stream",
     "text": [
      "Hero bike is a standard mode\n"
     ]
    }
   ],
   "source": [
    "new_bike.standard()"
   ]
  },
  {
   "cell_type": "markdown",
   "id": "2103c571-4752-4a30-9760-f1067e56323e",
   "metadata": {},
   "source": [
    "### Q4. \n",
    "#### What are getter and setter in python? Create a class and create a getter and a setter method in this class."
   ]
  },
  {
   "cell_type": "markdown",
   "id": "67afab89-263c-4afa-9aef-b694e7405df4",
   "metadata": {},
   "source": [
    "### Answer"
   ]
  },
  {
   "cell_type": "markdown",
   "id": "ee2223da-14bf-45ec-950c-0a6e38b7bd86",
   "metadata": {},
   "source": [
    "#### Getters:\n",
    "*Getters are methods that allow you to access an attribute in a given class. They are typically used to get the value of a private attribute without exposing the attribute itself to the outside world.*"
   ]
  },
  {
   "cell_type": "markdown",
   "id": "c22e27e3-d21a-4d29-bd2d-ab8fcd77fec5",
   "metadata": {},
   "source": [
    "#### Setters\n",
    "\n",
    "*Setters are methods that allow you to set or mutate the value of an attribute in a class. They are typically used to validate the value of an attribute before it is set, and to prevent unauthorized users from changing the value of an attribute.*"
   ]
  },
  {
   "cell_type": "markdown",
   "id": "001f5b12-8546-4a64-8ae7-9a26285abb4c",
   "metadata": {},
   "source": [
    "### Example:"
   ]
  },
  {
   "cell_type": "code",
   "execution_count": 9,
   "id": "4c6666a4-13c0-4df7-b3dc-b69abcf0bb9b",
   "metadata": {},
   "outputs": [],
   "source": [
    "class person:\n",
    "    def __init__(self, name):\n",
    "        self.__name = name\n",
    "\n",
    "    @property\n",
    "    def name(self):\n",
    "        return self.__name\n",
    "\n",
    "    @name.setter\n",
    "    def name(self, value):\n",
    "        self.__name = value"
   ]
  },
  {
   "cell_type": "code",
   "execution_count": 10,
   "id": "99ab795c-308f-4e6e-bcfa-1d8515d7c5f0",
   "metadata": {},
   "outputs": [],
   "source": [
    "person = person(\"Tabish\")"
   ]
  },
  {
   "cell_type": "code",
   "execution_count": 12,
   "id": "7369b196-2782-4df0-879a-052931b1033e",
   "metadata": {},
   "outputs": [
    {
     "data": {
      "text/plain": [
       "'Tabish'"
      ]
     },
     "execution_count": 12,
     "metadata": {},
     "output_type": "execute_result"
    }
   ],
   "source": [
    "person.name"
   ]
  },
  {
   "cell_type": "code",
   "execution_count": 13,
   "id": "57eba4eb-4054-482e-a162-5557cde93340",
   "metadata": {},
   "outputs": [],
   "source": [
    "person.name = \"Husain\""
   ]
  },
  {
   "cell_type": "code",
   "execution_count": 14,
   "id": "5247a0d0-a35a-45d2-ae07-0e6bbc1e9123",
   "metadata": {},
   "outputs": [
    {
     "data": {
      "text/plain": [
       "'Husain'"
      ]
     },
     "execution_count": 14,
     "metadata": {},
     "output_type": "execute_result"
    }
   ],
   "source": [
    "person.name"
   ]
  },
  {
   "cell_type": "markdown",
   "id": "cdf7f5cf-7d11-4fe8-9b59-33e500cfdb0e",
   "metadata": {},
   "source": [
    "### Q5.\n",
    "#### What is method overriding in python? Write a python code to demonstrate method overriding."
   ]
  },
  {
   "cell_type": "markdown",
   "id": "b4e21836-4064-4c01-b2ba-369d2980f6cc",
   "metadata": {},
   "source": [
    "### Answer"
   ]
  },
  {
   "cell_type": "markdown",
   "id": "f1a51b69-5480-4c5d-97ee-79eeb2098311",
   "metadata": {},
   "source": [
    "Method overriding in Python is a feature that allows a subclass to provide a different implementation for a method that is already defined in its parent class. When a method is overridden in the subclass, the implementation of the method in the subclass is used instead of the implementation in the parent class"
   ]
  },
  {
   "cell_type": "markdown",
   "id": "cb9115fa-aa74-4b71-9f41-a14a29d3bdd2",
   "metadata": {},
   "source": [
    "### Example:"
   ]
  },
  {
   "cell_type": "code",
   "execution_count": 1,
   "id": "891651c3-bd0b-42ca-9385-e2348feeb15f",
   "metadata": {},
   "outputs": [],
   "source": [
    "class vehicle:\n",
    "    def speed_limit(self):\n",
    "        print(\"The maximum speed limit is 120 km/h.\")\n",
    "        \n",
    "class car(vehicle):\n",
    "    def speed_limit(self):\n",
    "        print(\"The maximum speed limit for cars is 110 km/h.\")\n",
    "        \n",
    "class motorcycles(vehicle):\n",
    "    def speed_limit(self):\n",
    "        print(\"The maximum speed limit for motorcycles is 90 km/h.\")\n",
    "\n"
   ]
  },
  {
   "cell_type": "code",
   "execution_count": 2,
   "id": "a5a7f58f-27e8-407a-a257-47447bf020f9",
   "metadata": {},
   "outputs": [],
   "source": [
    "vehicle = vehicle()"
   ]
  },
  {
   "cell_type": "code",
   "execution_count": 3,
   "id": "70b72e67-3b29-4586-8378-1e0fecc0c381",
   "metadata": {},
   "outputs": [
    {
     "name": "stdout",
     "output_type": "stream",
     "text": [
      "The maximum speed limit is 120 km/h.\n"
     ]
    }
   ],
   "source": [
    "vehicle.speed_limit()"
   ]
  },
  {
   "cell_type": "code",
   "execution_count": 4,
   "id": "801f163d-6916-4ead-982e-30458058a2d2",
   "metadata": {},
   "outputs": [],
   "source": [
    "car = car()"
   ]
  },
  {
   "cell_type": "code",
   "execution_count": 6,
   "id": "3c88efa4-63eb-4ba2-ae04-02f29d81f76b",
   "metadata": {},
   "outputs": [
    {
     "name": "stdout",
     "output_type": "stream",
     "text": [
      "The maximum speed limit for cars is 110 km/h.\n"
     ]
    }
   ],
   "source": [
    "car.speed_limit()"
   ]
  },
  {
   "cell_type": "code",
   "execution_count": 7,
   "id": "ee8e4a6d-2be5-4b26-ac76-298e66c41e6a",
   "metadata": {},
   "outputs": [],
   "source": [
    "motorcycles = motorcycles()"
   ]
  },
  {
   "cell_type": "code",
   "execution_count": 8,
   "id": "3a4235fc-da69-48e3-b782-8254b2cfb4bb",
   "metadata": {},
   "outputs": [
    {
     "name": "stdout",
     "output_type": "stream",
     "text": [
      "The maximum speed limit for motorcycles is 90 km/h.\n"
     ]
    }
   ],
   "source": [
    "motorcycles.speed_limit()"
   ]
  },
  {
   "cell_type": "code",
   "execution_count": null,
   "id": "0a8b1e68-f456-4c84-a3fd-9dea4bc49b19",
   "metadata": {},
   "outputs": [],
   "source": []
  }
 ],
 "metadata": {
  "kernelspec": {
   "display_name": "Python 3 (ipykernel)",
   "language": "python",
   "name": "python3"
  },
  "language_info": {
   "codemirror_mode": {
    "name": "ipython",
    "version": 3
   },
   "file_extension": ".py",
   "mimetype": "text/x-python",
   "name": "python",
   "nbconvert_exporter": "python",
   "pygments_lexer": "ipython3",
   "version": "3.10.8"
  }
 },
 "nbformat": 4,
 "nbformat_minor": 5
}
