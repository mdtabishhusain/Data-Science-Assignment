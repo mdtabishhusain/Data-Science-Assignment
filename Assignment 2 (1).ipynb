{
 "cells": [
  {
   "cell_type": "markdown",
   "id": "10d65f99-422f-4f24-affa-913d262a06f8",
   "metadata": {},
   "source": [
    "# Assignment 2 "
   ]
  },
  {
   "cell_type": "markdown",
   "id": "e24ec448-f6e2-4355-8aac-96f0beef41d9",
   "metadata": {},
   "source": [
    "### Q1. How do you comment code in Python? What are the different types of comments?"
   ]
  },
  {
   "cell_type": "code",
   "execution_count": 5,
   "id": "69810142-a0b5-41c4-ba22-92e09d073e99",
   "metadata": {},
   "outputs": [
    {
     "data": {
      "text/plain": [
       "'These comments span across multiple lines and are used to provide more detailed explanations or documentation. \\nIn Python, there is no specific syntax for multi-line comments like in some other programming languages. \\nInstead, programmers often use triple quotes (either single or double) to enclose multi-line comments. \\nAlthough these comments are not executed, they are treated as string literals by the interpreter.  \\nFor Example this very line in which defition is written is itself a multiline comment '"
      ]
     },
     "execution_count": 5,
     "metadata": {},
     "output_type": "execute_result"
    }
   ],
   "source": [
    "# Comments in python are made using the hash (#) symbol.\n",
    "# Different types of comments in python:\n",
    "# Single Line Comments:  These comments are used to explain a single line of code and start with the hash symbol (#). Anything written after the hash symbol on the same line is considered a comment and is not executed by the interpreter. For Example this very line in which defition is written is itself a single line comment.\n",
    "\n",
    "\"\"\"These comments span across multiple lines and are used to provide more detailed explanations or documentation. \n",
    "In Python, there is no specific syntax for multi-line comments like in some other programming languages. \n",
    "Instead, programmers often use triple quotes (either single or double) to enclose multi-line comments. \n",
    "Although these comments are not executed, they are treated as string literals by the interpreter.  \n",
    "For Example this very line in which defition is written is itself a multiline comment \"\"\""
   ]
  },
  {
   "cell_type": "markdown",
   "id": "85d216d8-e8a2-474e-bb47-7647ccc79f50",
   "metadata": {},
   "source": [
    "### Q2. What are variables in Python? How do you declare and assign values to variables?"
   ]
  },
  {
   "cell_type": "code",
   "execution_count": 8,
   "id": "96593dd7-a946-4684-bcfc-fb143e31bd05",
   "metadata": {},
   "outputs": [
    {
     "data": {
      "text/plain": [
       "\" In the above example, the variable 'a' is declared and assigned the value 10. \\nAfter this assignment, the variable 'a' holds the value 10, and we can use it in our program.\""
      ]
     },
     "execution_count": 8,
     "metadata": {},
     "output_type": "execute_result"
    }
   ],
   "source": [
    "\"\"\"Variables are used to store data or values that can be used and manipulated throughout the program. \n",
    "A variable is essentially a named container that holds a value, and it allows you to refer to that value by its name.\"\"\"\n",
    "# Variable Declaration\n",
    "a = 10\n",
    "\"\"\" In the above example, the variable 'a' is declared and assigned the value 10. \n",
    "After this assignment, the variable 'a' holds the value 10, and we can use it in our program.\"\"\""
   ]
  },
  {
   "cell_type": "markdown",
   "id": "2c2e0eb8-18cd-4fd0-b1a2-9174de056e91",
   "metadata": {},
   "source": [
    "### Q3. How do you convert one data type to another in Python?"
   ]
  },
  {
   "cell_type": "code",
   "execution_count": 16,
   "id": "9f87d0fa-a977-4e84-b62e-75e64facc49d",
   "metadata": {},
   "outputs": [
    {
     "name": "stdout",
     "output_type": "stream",
     "text": [
      "15\n",
      "25\n"
     ]
    },
    {
     "data": {
      "text/plain": [
       "int"
      ]
     },
     "execution_count": 16,
     "metadata": {},
     "output_type": "execute_result"
    }
   ],
   "source": [
    "# To convert one data type to another we use type casting.\n",
    "# For example to convert an integer into string we use -\n",
    "a = str(15)\n",
    "print (a)\n",
    "type(a)\n",
    "# another example is converting a float into integer - \n",
    "b = int(25.35)\n",
    "print(b)\n",
    "type(b)"
   ]
  },
  {
   "cell_type": "markdown",
   "id": "3194ec0c-c459-43a0-990a-9bac5e4c4e0d",
   "metadata": {},
   "source": [
    "### Q4. How do you write and execute a Python script from the command line?"
   ]
  },
  {
   "cell_type": "code",
   "execution_count": 17,
   "id": "3e1c0497-fe19-47e1-9673-c8cbcb8b8c0d",
   "metadata": {},
   "outputs": [],
   "source": [
    "# To execute a python script from the command line, just write your code in the command line and press shift + enter, your code will be executed\n",
    "# example\n",
    "def batch_sorter():\n",
    "    marks = int(input(\"Enter your marks and press enter\"))\n",
    "    if marks >=80 :\n",
    "        print(\"you will be a part of A0 batch\")\n",
    "    elif marks >= 60 and marks<80:\n",
    "        print(\"you will be a part of A1 batch\")\n",
    "    elif marks >=40 and marks <60:\n",
    "        print(\"you will be a part of A2 batch\")\n",
    "    else:\n",
    "        print(\"you will be a part of A3 batch\")\n",
    "# to execute this code just press shift + enter key"
   ]
  },
  {
   "cell_type": "markdown",
   "id": "19b9aab2-cfcc-4548-9070-108562018e1a",
   "metadata": {},
   "source": [
    "### Q5. Given a list my_list = [1, 2, 3, 4, 5], write the code to slice the list and obtain the sub-list [2, 3]."
   ]
  },
  {
   "cell_type": "code",
   "execution_count": 20,
   "id": "95996faa-b5dd-4d7e-831a-ba4d787cb790",
   "metadata": {},
   "outputs": [
    {
     "name": "stdout",
     "output_type": "stream",
     "text": [
      "[2, 3]\n"
     ]
    }
   ],
   "source": [
    "my_list = [1,2,3,4,5]\n",
    "slice_list = my_list[1:3]\n",
    "print(slice_list)"
   ]
  },
  {
   "cell_type": "markdown",
   "id": "2598d258-70a5-4815-b97a-20783e1765ad",
   "metadata": {},
   "source": [
    "### Q6. What is a complex number in mathematics, and how is it represented in Python?"
   ]
  },
  {
   "cell_type": "code",
   "execution_count": 28,
   "id": "13b50b6a-62fb-4d48-b882-0733deeef757",
   "metadata": {},
   "outputs": [
    {
     "name": "stdout",
     "output_type": "stream",
     "text": [
      "(2+5j)\n"
     ]
    },
    {
     "data": {
      "text/plain": [
       "complex"
      ]
     },
     "execution_count": 28,
     "metadata": {},
     "output_type": "execute_result"
    }
   ],
   "source": [
    "\"\"\"In mathematics, a complex number is a number that comprises both a real part and an imaginary part. \n",
    "It is expressed in the form a + bi, where a represents the real part, b represents the imaginary part, and i represents the imaginary unit, which is defined as the square root of -1.\n",
    "In Python, complex numbers can be represented using the complex data type. The imaginary part is denoted by appending j or J to the numerical value.\"\"\"\n",
    "# it is represented as -\n",
    "z=2+5j\n",
    "print (z)\n",
    "type(z)"
   ]
  },
  {
   "cell_type": "markdown",
   "id": "9e3d901b-7e66-4fe8-92d7-9f0f9da920f7",
   "metadata": {},
   "source": [
    "### Q7. What is the correct way to declare a variable named age and assign the value 25 to it?"
   ]
  },
  {
   "cell_type": "code",
   "execution_count": 29,
   "id": "9007ae94-e34c-41aa-a451-a13f82021527",
   "metadata": {},
   "outputs": [
    {
     "name": "stdout",
     "output_type": "stream",
     "text": [
      "25\n"
     ]
    }
   ],
   "source": [
    "# The correct way to declare a variablenamed age and assign the value 25 to it is -\n",
    "age = 25\n",
    "print(age)"
   ]
  },
  {
   "cell_type": "markdown",
   "id": "9f36b702-9cbc-4d7f-be74-d3ee5a5f8f6c",
   "metadata": {},
   "source": [
    "### Q8. Declare a variable named price and assign the value 9.99 to it. What data type does this variable belong to?"
   ]
  },
  {
   "cell_type": "code",
   "execution_count": 31,
   "id": "f1675ac2-0aee-4da3-9177-7b7b61a684d6",
   "metadata": {},
   "outputs": [
    {
     "name": "stdout",
     "output_type": "stream",
     "text": [
      "9.99\n"
     ]
    },
    {
     "data": {
      "text/plain": [
       "float"
      ]
     },
     "execution_count": 31,
     "metadata": {},
     "output_type": "execute_result"
    }
   ],
   "source": [
    "# To declare a variable named price -\n",
    "price = 9.99\n",
    "print (price)\n",
    "type(price) # after executing we will see the data type is float"
   ]
  },
  {
   "cell_type": "markdown",
   "id": "9a1b9181-c6e5-42c6-b13d-ffc13a18f16f",
   "metadata": {},
   "source": [
    "### Q9. Create a variable named name and assign your full name to it as a string. How would you print the value of this variable?"
   ]
  },
  {
   "cell_type": "code",
   "execution_count": 33,
   "id": "2416a543-e3a1-4084-ad83-73d237dccebf",
   "metadata": {},
   "outputs": [
    {
     "name": "stdout",
     "output_type": "stream",
     "text": [
      "Mohd Tabish Husain\n"
     ]
    }
   ],
   "source": [
    "# Creating a variable named name -\n",
    "name = \"Mohd Tabish Husain\"\n",
    "# Printing the variable\n",
    "print (name)"
   ]
  },
  {
   "cell_type": "markdown",
   "id": "21e1d88c-10e8-466c-969e-44cc52e23b68",
   "metadata": {},
   "source": [
    "### Q10. Given the string \"Hello, World!\", extract the substring \"World\"."
   ]
  },
  {
   "cell_type": "code",
   "execution_count": 36,
   "id": "e2218a93-cf13-4d91-a79c-34bf742dcb51",
   "metadata": {},
   "outputs": [
    {
     "name": "stdout",
     "output_type": "stream",
     "text": [
      "World\n"
     ]
    }
   ],
   "source": [
    "# Extracting the substring World\n",
    "string = \"Hello, World!\"\n",
    "substring = string[7:12]\n",
    "print(substring)"
   ]
  },
  {
   "cell_type": "markdown",
   "id": "86ec10e2-ef4d-44ec-874e-4ed113a60ea2",
   "metadata": {},
   "source": [
    "### Q11. Create a variable named \"is_student\" and assign it a boolean value indicating whether you are currently a student or not."
   ]
  },
  {
   "cell_type": "code",
   "execution_count": 39,
   "id": "65fc842e-26fa-45ff-8dc3-5777fcf6b3b4",
   "metadata": {},
   "outputs": [
    {
     "name": "stdout",
     "output_type": "stream",
     "text": [
      "True\n"
     ]
    }
   ],
   "source": [
    "is_student = True\n",
    "print(is_student)"
   ]
  }
 ],
 "metadata": {
  "kernelspec": {
   "display_name": "Python 3 (ipykernel)",
   "language": "python",
   "name": "python3"
  },
  "language_info": {
   "codemirror_mode": {
    "name": "ipython",
    "version": 3
   },
   "file_extension": ".py",
   "mimetype": "text/x-python",
   "name": "python",
   "nbconvert_exporter": "python",
   "pygments_lexer": "ipython3",
   "version": "3.10.8"
  }
 },
 "nbformat": 4,
 "nbformat_minor": 5
}
