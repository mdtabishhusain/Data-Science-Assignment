{
 "cells": [
  {
   "cell_type": "markdown",
   "id": "4102788a-11bb-4002-83f2-80aee36cb800",
   "metadata": {},
   "source": [
    "# Assignment 3"
   ]
  },
  {
   "cell_type": "markdown",
   "id": "294c1407-e8a4-49c1-bea4-dd058b0adf7f",
   "metadata": {},
   "source": [
    "### Q1. Which keyword is used to create a function? Create a function to return a list of odd numbers in the range of 1 to 25."
   ]
  },
  {
   "cell_type": "code",
   "execution_count": 15,
   "id": "8e1d970d-e740-42dd-bcdb-700cc8734885",
   "metadata": {},
   "outputs": [],
   "source": [
    "# 'def' keyword is used to create a function.\n",
    "#function to return a list opf odd numbers in the range 1 to 25\n",
    "def odd(n,p):\n",
    "    l1=[]\n",
    "    for i in range(n,p):\n",
    "        if i%2!=0:\n",
    "            l1.append(i)\n",
    "    return l1"
   ]
  },
  {
   "cell_type": "code",
   "execution_count": 16,
   "id": "72a3f8df-6688-4ae8-9084-705a6672c911",
   "metadata": {},
   "outputs": [
    {
     "data": {
      "text/plain": [
       "[1, 3, 5, 7, 9, 11, 13, 15, 17, 19, 21, 23]"
      ]
     },
     "execution_count": 16,
     "metadata": {},
     "output_type": "execute_result"
    }
   ],
   "source": [
    "odd(1,25)"
   ]
  },
  {
   "cell_type": "markdown",
   "id": "c3bcb28d-91e2-4d1f-988a-8d726a8618e3",
   "metadata": {},
   "source": [
    "### Q2. Why *args and **kwargs is used in some functions? Create a function each for *args and **kwargs to demonstrate their use."
   ]
  },
  {
   "cell_type": "code",
   "execution_count": 17,
   "id": "5ce53ca9-4487-4eb1-a6e1-4ad19d90c40d",
   "metadata": {},
   "outputs": [],
   "source": [
    "# *args is used for letting the user to enter n number of arguments in a function without any restrictions. Also the data type of *args is tuple by default\n",
    "# whereas **kwargs is used to let the user enter dictionary as an argument in a function (key and value pair). Also the data type of **kwargs is dictionary by default "
   ]
  },
  {
   "cell_type": "code",
   "execution_count": 19,
   "id": "3dc35814-7edb-49d3-9f93-d41b90663a56",
   "metadata": {},
   "outputs": [],
   "source": [
    "# function for *args\n",
    "def args(*args):\n",
    "    return args"
   ]
  },
  {
   "cell_type": "code",
   "execution_count": 20,
   "id": "90ed7338-bc2f-4149-b015-b0bf7d2f2312",
   "metadata": {},
   "outputs": [
    {
     "data": {
      "text/plain": [
       "(4, 5, 6, 6.5, 'pwskills')"
      ]
     },
     "execution_count": 20,
     "metadata": {},
     "output_type": "execute_result"
    }
   ],
   "source": [
    "args(4,5,6,6.5,\"pwskills\")"
   ]
  },
  {
   "cell_type": "code",
   "execution_count": 21,
   "id": "9d0c330a-1244-4bdc-814e-e2d0f5578335",
   "metadata": {},
   "outputs": [],
   "source": [
    "# function for **kwargs\n",
    "def kwargs(**kwargs):\n",
    "    return kwargs"
   ]
  },
  {
   "cell_type": "code",
   "execution_count": 22,
   "id": "dc8ab7c8-5366-45b5-a958-06d6c725c0b8",
   "metadata": {},
   "outputs": [
    {
     "data": {
      "text/plain": [
       "{'a': 15, 'b': 'pwskills', 'c': 65.32}"
      ]
     },
     "execution_count": 22,
     "metadata": {},
     "output_type": "execute_result"
    }
   ],
   "source": [
    "kwargs(a=15, b=\"pwskills\",c=65.32)"
   ]
  },
  {
   "cell_type": "markdown",
   "id": "df0591a9-6a55-41a0-b73f-f09e5e746fdd",
   "metadata": {},
   "source": [
    "### Q3. What is an iterator in python? Name the method used to initialise the iterator object and the method used for iteration. Use these methods to print the first five elements of the given list [2, 4, 6, 8, 10, 12, 14, 16, 18, 20]."
   ]
  },
  {
   "cell_type": "code",
   "execution_count": 26,
   "id": "3bb7f893-7668-4904-a6d3-dc98ad89c4a9",
   "metadata": {},
   "outputs": [],
   "source": [
    "# iterator allows us to iterate over collections of data, such as lists, tuples, dictionaries, and sets.\n",
    "# the method used to initialise the iterator object is 'iter'"
   ]
  },
  {
   "cell_type": "code",
   "execution_count": 28,
   "id": "cb96e330-767d-4f05-a297-9deb4da92c1a",
   "metadata": {},
   "outputs": [],
   "source": [
    "l=[2,4,6,8,10,12,14,16,18,20]"
   ]
  },
  {
   "cell_type": "code",
   "execution_count": 42,
   "id": "9600403a-289c-4ae0-9b55-1865fa811c7a",
   "metadata": {},
   "outputs": [
    {
     "name": "stdout",
     "output_type": "stream",
     "text": [
      "2\n",
      "4\n",
      "6\n",
      "8\n",
      "10\n"
     ]
    }
   ],
   "source": [
    "l1=iter(l)\n",
    "for i in range(5):\n",
    "    l2 = next(l1)\n",
    "    print (l2)"
   ]
  },
  {
   "cell_type": "markdown",
   "id": "9124944c-fef2-481a-aa3d-92fb290a3d23",
   "metadata": {},
   "source": [
    "### Q4. What is a generator function in python? Why yield keyword is used? Give an example of a generator function."
   ]
  },
  {
   "cell_type": "code",
   "execution_count": 1,
   "id": "b5f57ccb-8d69-4735-a524-2730ca8d288b",
   "metadata": {},
   "outputs": [],
   "source": [
    "# A Python generator function allows you to declare a function that behaves like an iterator, providing a faster and easier way to create iterators.\n",
    "# The Yield keyword in Python is similar to a return statement used for returning values or objects in Python. However, there is a slight difference. The yield statement returns a generator object to the one who calls the function which contains yield, instead of simply returning a value.\n",
    "# Example of generator function\n",
    "def even_num(n):\n",
    "    for i in range(n):\n",
    "        if i%2==0:\n",
    "            yield i"
   ]
  },
  {
   "cell_type": "code",
   "execution_count": 12,
   "id": "201315b1-ea7b-49da-b4a3-bd8d8c75df61",
   "metadata": {},
   "outputs": [
    {
     "name": "stdout",
     "output_type": "stream",
     "text": [
      "0\n",
      "2\n",
      "4\n",
      "6\n",
      "8\n",
      "10\n",
      "12\n",
      "14\n",
      "16\n",
      "18\n",
      "20\n",
      "22\n"
     ]
    }
   ],
   "source": [
    "for i in even_num(24):\n",
    "    print(i)"
   ]
  },
  {
   "cell_type": "markdown",
   "id": "6c8803a3-7b4b-4a4e-a207-8ad4a1ce15d9",
   "metadata": {},
   "source": [
    "### Q5. Create a generator function for prime numbers less than 1000. Use the next() method to print the first 20 prime numbers."
   ]
  },
  {
   "cell_type": "code",
   "execution_count": 1,
   "id": "1f885561-0331-4bbc-ab14-18b112d4f0ee",
   "metadata": {},
   "outputs": [
    {
     "name": "stdout",
     "output_type": "stream",
     "text": [
      "2\n",
      "3\n",
      "5\n",
      "7\n",
      "11\n",
      "13\n",
      "17\n",
      "19\n",
      "23\n",
      "29\n",
      "31\n",
      "37\n",
      "41\n",
      "43\n",
      "47\n",
      "53\n",
      "59\n",
      "61\n",
      "67\n",
      "71\n"
     ]
    }
   ],
   "source": [
    "# generator function for prime numbers\n",
    "def primes_generator():\n",
    "    primes = []\n",
    "    num = 2\n",
    "    while True:\n",
    "        if all(num % prime != 0 for prime in primes):\n",
    "            primes.append(num)\n",
    "            yield num\n",
    "        num += 1\n",
    "\n",
    "# Create a generator object\n",
    "prime_generator = primes_generator()\n",
    "\n",
    "# Print the first 20 prime numbers\n",
    "for _ in range(20):\n",
    "    prime = next(prime_generator)\n",
    "    print(prime)"
   ]
  },
  {
   "cell_type": "markdown",
   "id": "5d8a7f31-1b94-45f1-a8bc-9e621ff49614",
   "metadata": {},
   "source": [
    "### Q6. Write a python program to print the first 10 Fibonacci numbers using a while loop."
   ]
  },
  {
   "cell_type": "code",
   "execution_count": 1,
   "id": "d6b61383-569b-4f67-8719-79be93e800ea",
   "metadata": {},
   "outputs": [],
   "source": [
    "def test_fib():\n",
    "    a,b = 0,1\n",
    "    while True:\n",
    "        yield a\n",
    "        a,b = b, a+b"
   ]
  },
  {
   "cell_type": "code",
   "execution_count": 2,
   "id": "fc7c7ecb-fb7d-4b8a-8b1a-f8ca0706a7d0",
   "metadata": {},
   "outputs": [
    {
     "name": "stdout",
     "output_type": "stream",
     "text": [
      "0\n",
      "1\n",
      "1\n",
      "2\n",
      "3\n",
      "5\n",
      "8\n",
      "13\n",
      "21\n",
      "34\n"
     ]
    }
   ],
   "source": [
    "fib= test_fib()\n",
    "for i in range(10):\n",
    "    print(next(fib))"
   ]
  },
  {
   "cell_type": "markdown",
   "id": "8a78812b-9056-4a0a-8f09-4deb4cb8894b",
   "metadata": {},
   "source": [
    "### Q7. Write a List Comprehension to iterate through the given string: ‘pwskills’. Expected output: ['p', 'w', 's', 'k', 'i', 'l', 'l', 's']"
   ]
  },
  {
   "cell_type": "code",
   "execution_count": 9,
   "id": "b089408c-35e6-4b6f-8431-3a50e85bd962",
   "metadata": {},
   "outputs": [
    {
     "name": "stdout",
     "output_type": "stream",
     "text": [
      "['p', 'w', 's', 'k', 'i', 'l', 'l', 's']\n"
     ]
    }
   ],
   "source": [
    "s = \"pwskills\"\n",
    "n=[]\n",
    "for i in s:\n",
    "    n.append(i)\n",
    "print(n)"
   ]
  },
  {
   "cell_type": "markdown",
   "id": "3a436909-c5a4-4ce9-879a-dfa91f6597bb",
   "metadata": {},
   "source": [
    "### Q8. Write a python program to check whether a given number is Palindrome or not using a while loop."
   ]
  },
  {
   "cell_type": "code",
   "execution_count": 14,
   "id": "85bade28-02d8-4156-b976-28d54683a5a4",
   "metadata": {},
   "outputs": [],
   "source": [
    "def palindrome():\n",
    "    num = int(input(\"Enter a number: \"))\n",
    "    original_num = num\n",
    "    reverse_num = 0\n",
    "\n",
    "    while num > 0:\n",
    "        digit = num % 10\n",
    "        reverse_num = reverse_num * 10 + digit\n",
    "        num = num // 10\n",
    "\n",
    "    if original_num == reverse_num:\n",
    "        print(original_num, \"is a palindrome.\")\n",
    "    else:\n",
    "        print(original_num, \"is not a palindrome.\")"
   ]
  },
  {
   "cell_type": "code",
   "execution_count": 32,
   "id": "7bdbed43-639d-46e4-bde8-9951f9ac5253",
   "metadata": {},
   "outputs": [
    {
     "name": "stdin",
     "output_type": "stream",
     "text": [
      "Enter a number:  25652\n"
     ]
    },
    {
     "name": "stdout",
     "output_type": "stream",
     "text": [
      "25652 is a palindrome.\n"
     ]
    }
   ],
   "source": [
    "palindrome()"
   ]
  },
  {
   "cell_type": "markdown",
   "id": "3da9c022-59ac-4651-8aa0-4888c139df98",
   "metadata": {},
   "source": [
    "### Q9. Write a code to print odd numbers from 1 to 100 using list comprehension."
   ]
  },
  {
   "cell_type": "code",
   "execution_count": 38,
   "id": "2effc43b-884a-483f-8861-907a8a092684",
   "metadata": {},
   "outputs": [
    {
     "name": "stdout",
     "output_type": "stream",
     "text": [
      "[1, 3, 5, 7, 9, 11, 13, 15, 17, 19, 21, 23, 25, 27, 29, 31, 33, 35, 37, 39, 41, 43, 45, 47, 49, 51, 53, 55, 57, 59, 61, 63, 65, 67, 69, 71, 73, 75, 77, 79, 81, 83, 85, 87, 89, 91, 93, 95, 97, 99]\n"
     ]
    }
   ],
   "source": [
    "l=[]\n",
    "odd=[]\n",
    "for i in range(1,101):\n",
    "    l.append(i)\n",
    "for i in l:\n",
    "    if i%2!=0:\n",
    "        odd.append(i)\n",
    "print(odd)"
   ]
  }
 ],
 "metadata": {
  "kernelspec": {
   "display_name": "Python 3 (ipykernel)",
   "language": "python",
   "name": "python3"
  },
  "language_info": {
   "codemirror_mode": {
    "name": "ipython",
    "version": 3
   },
   "file_extension": ".py",
   "mimetype": "text/x-python",
   "name": "python",
   "nbconvert_exporter": "python",
   "pygments_lexer": "ipython3",
   "version": "3.10.8"
  }
 },
 "nbformat": 4,
 "nbformat_minor": 5
}
