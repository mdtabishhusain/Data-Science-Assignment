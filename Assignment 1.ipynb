{
 "cells": [
  {
   "cell_type": "markdown",
   "id": "665a1ad5-805c-41fc-bc14-c472e0ebeea8",
   "metadata": {},
   "source": [
    "# Q1. Create one variable containing following type of data:"
   ]
  },
  {
   "cell_type": "code",
   "execution_count": 1,
   "id": "a555ef1b-1f57-4626-bd43-5f8d8f91f1ac",
   "metadata": {},
   "outputs": [
    {
     "name": "stdout",
     "output_type": "stream",
     "text": [
      "PWSKILLS\n"
     ]
    },
    {
     "data": {
      "text/plain": [
       "str"
      ]
     },
     "execution_count": 1,
     "metadata": {},
     "output_type": "execute_result"
    }
   ],
   "source": [
    "#string\n",
    "a = \"PWSKILLS\"\n",
    "print (a)\n",
    "type(a)"
   ]
  },
  {
   "cell_type": "code",
   "execution_count": 2,
   "id": "1cac9a19-9b65-4cf4-a7c8-044244e4c3d2",
   "metadata": {},
   "outputs": [
    {
     "name": "stdout",
     "output_type": "stream",
     "text": [
      "[1, 2, 5, 7, True, 'Data Science', 22.56]\n"
     ]
    },
    {
     "data": {
      "text/plain": [
       "list"
      ]
     },
     "execution_count": 2,
     "metadata": {},
     "output_type": "execute_result"
    }
   ],
   "source": [
    "#list\n",
    "l = [1,2,5,7, True, \"Data Science\", 22.56]\n",
    "print(l)\n",
    "type(l)"
   ]
  },
  {
   "cell_type": "code",
   "execution_count": 3,
   "id": "64f9cc0d-4981-47e5-a20d-18fda748cd19",
   "metadata": {},
   "outputs": [
    {
     "name": "stdout",
     "output_type": "stream",
     "text": [
      "55.56\n"
     ]
    },
    {
     "data": {
      "text/plain": [
       "float"
      ]
     },
     "execution_count": 3,
     "metadata": {},
     "output_type": "execute_result"
    }
   ],
   "source": [
    "#float\n",
    "f = 55.56\n",
    "print (f)\n",
    "type (f)"
   ]
  },
  {
   "cell_type": "code",
   "execution_count": 4,
   "id": "051389a1-e4e4-43b2-804e-0a7f8f74645d",
   "metadata": {},
   "outputs": [
    {
     "name": "stdout",
     "output_type": "stream",
     "text": [
      "(1, 2, 3, 4, True, [1, 2, 'Tuple'], 2.45)\n"
     ]
    },
    {
     "data": {
      "text/plain": [
       "tuple"
      ]
     },
     "execution_count": 4,
     "metadata": {},
     "output_type": "execute_result"
    }
   ],
   "source": [
    "#tuple\n",
    "t = (1,2,3,4, True, [1,2,\"Tuple\"], 2.45)\n",
    "print (t)\n",
    "type (t)"
   ]
  },
  {
   "cell_type": "markdown",
   "id": "df07a0de-8592-4ba9-813b-f66a3f29f12b",
   "metadata": {},
   "source": [
    "# Q2. Given are some following variables containing data: "
   ]
  },
  {
   "cell_type": "code",
   "execution_count": 5,
   "id": "fcaad5ab-ac74-445a-b75e-084129c4fc5d",
   "metadata": {},
   "outputs": [
    {
     "name": "stdout",
     "output_type": "stream",
     "text": [
      "\n"
     ]
    },
    {
     "data": {
      "text/plain": [
       "str"
      ]
     },
     "execution_count": 5,
     "metadata": {},
     "output_type": "execute_result"
    }
   ],
   "source": [
    "var1 = ''\n",
    "print (var1)\n",
    "type (var1)\n",
    "# var 1 is a string"
   ]
  },
  {
   "cell_type": "code",
   "execution_count": 6,
   "id": "2407129e-305a-4c7b-b2ee-e7ce132b4c63",
   "metadata": {},
   "outputs": [
    {
     "name": "stdout",
     "output_type": "stream",
     "text": [
      "[ DS , ML , Python]\n"
     ]
    },
    {
     "data": {
      "text/plain": [
       "str"
      ]
     },
     "execution_count": 6,
     "metadata": {},
     "output_type": "execute_result"
    }
   ],
   "source": [
    "var2 = '[ DS , ML , Python]'\n",
    "print (var2)\n",
    "type (var2)\n",
    "# var2 is a string"
   ]
  },
  {
   "cell_type": "code",
   "execution_count": 7,
   "id": "23c15be5-f7f3-45bd-aacb-b65d31048bc1",
   "metadata": {},
   "outputs": [
    {
     "name": "stdout",
     "output_type": "stream",
     "text": [
      "['DS', 'ML', 'Python']\n"
     ]
    },
    {
     "data": {
      "text/plain": [
       "list"
      ]
     },
     "execution_count": 7,
     "metadata": {},
     "output_type": "execute_result"
    }
   ],
   "source": [
    "var3 = ['DS' , 'ML' , 'Python']\n",
    "print (var3)\n",
    "type (var3)\n",
    "# var3 is a list"
   ]
  },
  {
   "cell_type": "code",
   "execution_count": 8,
   "id": "2d281122-de2e-44bb-a2dd-9fd653fe0a81",
   "metadata": {},
   "outputs": [
    {
     "name": "stdout",
     "output_type": "stream",
     "text": [
      "1\n"
     ]
    },
    {
     "data": {
      "text/plain": [
       "int"
      ]
     },
     "execution_count": 8,
     "metadata": {},
     "output_type": "execute_result"
    }
   ],
   "source": [
    "var4 = 1\n",
    "print (var4)\n",
    "type (var4)\n",
    "# var4 is an integer"
   ]
  },
  {
   "cell_type": "markdown",
   "id": "533e3b7d-6bc0-4fdb-95a2-00f1cea620c7",
   "metadata": {},
   "source": [
    "# Q3. Explain the use of the following operators using an example: "
   ]
  },
  {
   "cell_type": "code",
   "execution_count": 9,
   "id": "556d0a8c-2049-47d9-84d7-e5fe55c61b03",
   "metadata": {},
   "outputs": [
    {
     "data": {
      "text/plain": [
       "5.0"
      ]
     },
     "execution_count": 9,
     "metadata": {},
     "output_type": "execute_result"
    }
   ],
   "source": [
    "# / (division operator) - It is used for dividing integers\n",
    "25/5"
   ]
  },
  {
   "cell_type": "code",
   "execution_count": 10,
   "id": "f820ab34-59bb-4090-a5c0-e1aa072cf99c",
   "metadata": {},
   "outputs": [
    {
     "data": {
      "text/plain": [
       "1"
      ]
     },
     "execution_count": 10,
     "metadata": {},
     "output_type": "execute_result"
    }
   ],
   "source": [
    "# % (Modulus operator) - It is used for getting remainder\n",
    "26%5"
   ]
  },
  {
   "cell_type": "code",
   "execution_count": 11,
   "id": "eddd7c63-d184-401e-b233-d082b528753c",
   "metadata": {},
   "outputs": [
    {
     "data": {
      "text/plain": [
       "5"
      ]
     },
     "execution_count": 11,
     "metadata": {},
     "output_type": "execute_result"
    }
   ],
   "source": [
    "# // ( Floor or Integral Division ) It is used to find quotient and remove remainder part\n",
    "26//5"
   ]
  },
  {
   "cell_type": "markdown",
   "id": "94256904-16b4-4c32-a6e0-b6356d004723",
   "metadata": {},
   "source": [
    "# Q4. Create a list of length 10 of your choice containing multiple types of data. Using for loop print the element and its data type. "
   ]
  },
  {
   "cell_type": "code",
   "execution_count": 12,
   "id": "60da3e60-5e2b-47c9-8526-9fbba69b8cd2",
   "metadata": {},
   "outputs": [
    {
     "name": "stdout",
     "output_type": "stream",
     "text": [
      "1\n",
      "<class 'int'>\n",
      "1.5\n",
      "<class 'float'>\n",
      "PWSkills\n",
      "<class 'str'>\n",
      "True\n",
      "<class 'bool'>\n",
      "2\n",
      "<class 'int'>\n",
      "2.36\n",
      "<class 'float'>\n",
      "Data Science\n",
      "<class 'str'>\n",
      "False\n",
      "<class 'bool'>\n",
      "35\n",
      "<class 'int'>\n",
      "78\n",
      "<class 'int'>\n"
     ]
    }
   ],
   "source": [
    "l = [1,1.5,\"PWSkills\",True,2,2.36,\"Data Science\",False,35,78]\n",
    "for i in l:\n",
    "    print(i)\n",
    "    print(type(i))"
   ]
  },
  {
   "cell_type": "markdown",
   "id": "1bd8e32a-44d0-49cb-aee7-2d05b9f8c1ce",
   "metadata": {},
   "source": [
    "# Q5. Using a while loop, verify if the number A is purely divisible by number B and if so then how many times it can be divisible."
   ]
  },
  {
   "cell_type": "code",
   "execution_count": 28,
   "id": "4b0ab986-aa13-4d73-83d3-caa6835c1631",
   "metadata": {},
   "outputs": [
    {
     "name": "stdin",
     "output_type": "stream",
     "text": [
      "Enter the value of number A:  25\n",
      "Enter the value of number B:  5\n"
     ]
    },
    {
     "name": "stdout",
     "output_type": "stream",
     "text": [
      "5 is a divisor of A, and it can be divided 2 times.\n"
     ]
    }
   ],
   "source": [
    "A = int(input(\"Enter the value of number A: \"))\n",
    "B = int(input(\"Enter the value of number B: \"))\n",
    "\n",
    "count = 0  # Variable to keep track of the number of divisions\n",
    "\n",
    "while A % B == 0:\n",
    "    A = A // B  # Divide A by B\n",
    "    count += 1  # Increment the count of divisions\n",
    "\n",
    "if count > 0:\n",
    "    print(f\"{B} is a divisor of A, and it can be divided {count} times.\")\n",
    "else:\n",
    "    print(f\"{B} is not a divisor of A.\")"
   ]
  },
  {
   "cell_type": "markdown",
   "id": "6904d5dd-a048-48c5-8bbd-e3668d135b47",
   "metadata": {},
   "source": [
    "# Q6. Create a list containing 25 int type data. Using for loop and if-else condition print if the element is divisible by 3 or not."
   ]
  },
  {
   "cell_type": "code",
   "execution_count": 32,
   "id": "d034451c-2726-4787-8d54-1cec077cf5b7",
   "metadata": {},
   "outputs": [
    {
     "name": "stdout",
     "output_type": "stream",
     "text": [
      "element 1 is not divisible by 3\n",
      "element 2 is not divisible by 3\n",
      "element 3 is divisible by 3\n",
      "element 4 is not divisible by 3\n",
      "element 5 is not divisible by 3\n",
      "element 6 is divisible by 3\n",
      "element 7 is not divisible by 3\n",
      "element 8 is not divisible by 3\n",
      "element 9 is divisible by 3\n",
      "element 10 is not divisible by 3\n",
      "element 11 is not divisible by 3\n",
      "element 12 is divisible by 3\n",
      "element 13 is not divisible by 3\n",
      "element 14 is not divisible by 3\n",
      "element 15 is divisible by 3\n",
      "element 16 is not divisible by 3\n",
      "element 17 is not divisible by 3\n",
      "element 18 is divisible by 3\n",
      "element 19 is not divisible by 3\n",
      "element 20 is not divisible by 3\n",
      "element 21 is divisible by 3\n",
      "element 22 is not divisible by 3\n",
      "element 23 is not divisible by 3\n",
      "element 24 is divisible by 3\n",
      "element 25 is not divisible by 3\n"
     ]
    }
   ],
   "source": [
    "l1=list(range(1,26))\n",
    "for i in l1:\n",
    "    if i % 3==0:\n",
    "        print(f\"element {i} is divisible by 3\")\n",
    "    else:\n",
    "        print (f\"element {i} is not divisible by 3\")"
   ]
  },
  {
   "cell_type": "markdown",
   "id": "f258d3cf-27a8-467e-a1b7-d46226bd3eaf",
   "metadata": {},
   "source": [
    "# Q7. What do you understand about mutable and immutable data types? Give examples for both showing this property."
   ]
  },
  {
   "cell_type": "code",
   "execution_count": 52,
   "id": "67bd48a4-3f96-4bf6-b1a2-be8a2f199f09",
   "metadata": {},
   "outputs": [
    {
     "data": {
      "text/plain": [
       "{'ramesh': 1, 'suresh': 2, 'Adii': 3, 'Tabish': 4}"
      ]
     },
     "execution_count": 52,
     "metadata": {},
     "output_type": "execute_result"
    }
   ],
   "source": [
    "# mutable data type is a data type that can be manipulated or changed after creation. For example - List, Dictionary\n",
    "#Example for mutable data types - Dictionary\n",
    "dit={\"ramesh\":1,\"suresh\":2}        # a dictionary\n",
    "dit.update({'Adii':3,\"Tabish\":4})  # mutating dictionary \n",
    "dit"
   ]
  },
  {
   "cell_type": "code",
   "execution_count": 57,
   "id": "1a10b68c-991b-4665-b146-70c57df0130f",
   "metadata": {},
   "outputs": [],
   "source": [
    "# immutable data type is a data type that cannot be manipulated or changed after creation. For example - Tuple, String\n",
    "st=\"Data Science\"\n",
    "st[1]='z' # if we execute this, we get an error saying that string object does not support item assignment"
   ]
  },
  {
   "cell_type": "code",
   "execution_count": null,
   "id": "9dee8a6f-f635-4340-918f-3a3d504eb532",
   "metadata": {},
   "outputs": [],
   "source": []
  }
 ],
 "metadata": {
  "kernelspec": {
   "display_name": "Python 3 (ipykernel)",
   "language": "python",
   "name": "python3"
  },
  "language_info": {
   "codemirror_mode": {
    "name": "ipython",
    "version": 3
   },
   "file_extension": ".py",
   "mimetype": "text/x-python",
   "name": "python",
   "nbconvert_exporter": "python",
   "pygments_lexer": "ipython3",
   "version": "3.10.8"
  }
 },
 "nbformat": 4,
 "nbformat_minor": 5
}
