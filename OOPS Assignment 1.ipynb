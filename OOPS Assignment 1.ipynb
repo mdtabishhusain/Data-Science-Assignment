{
 "cells": [
  {
   "cell_type": "markdown",
   "id": "a59a8856-b84a-4a17-a2b3-402f967193b6",
   "metadata": {},
   "source": [
    "# OOPS Assignment 1"
   ]
  },
  {
   "cell_type": "markdown",
   "id": "8ef29050-b9bd-4563-996d-7414d63681f3",
   "metadata": {},
   "source": [
    "### Q1. Explain Class and Object with respect to Object-Oriented Programming. Give a suitable example."
   ]
  },
  {
   "cell_type": "markdown",
   "id": "f2b3768c-fbd1-4ba0-a4cc-d96dbcdde964",
   "metadata": {},
   "source": [
    "### Answer"
   ]
  },
  {
   "cell_type": "markdown",
   "id": "37373357-ddee-4916-adf1-a5f49f5bc076",
   "metadata": {},
   "source": [
    "Class is the classification of real world entities but not specific about the entity."
   ]
  },
  {
   "cell_type": "markdown",
   "id": "f56c2127-e254-4303-922d-0af6065f15e8",
   "metadata": {},
   "source": [
    "Object stands for real world entities and it is also called variable or instance of the Class"
   ]
  },
  {
   "cell_type": "markdown",
   "id": "20d8a6ec-67a5-4930-9a8c-f5548570b3a5",
   "metadata": {},
   "source": [
    "### Example:"
   ]
  },
  {
   "cell_type": "code",
   "execution_count": 1,
   "id": "1c1255b7-cc44-4928-8055-3b45954d4cd4",
   "metadata": {},
   "outputs": [],
   "source": [
    "class car:\n",
    "    def __init__(self, make, model, year):\n",
    "        self.make = make\n",
    "        self.model = model\n",
    "        self.year = year\n",
    "    \n",
    "    def start_engine(self):\n",
    "        print(\"Engine started\")\n",
    "        \n",
    "    def stop_engine(self):\n",
    "        print(\"Engine stopped\")\n",
    "        \n",
    "    def accelerate(self):\n",
    "        print(\"Accelerating....\")\n",
    "        \n",
    "    def brake(self):\n",
    "        print(\"Applying brakes\")"
   ]
  },
  {
   "cell_type": "code",
   "execution_count": 2,
   "id": "1fc95667-c500-4d4c-b751-269a8340da63",
   "metadata": {},
   "outputs": [],
   "source": [
    "car1 = car(\"Maruti\", \"Baleno\", 2023)"
   ]
  },
  {
   "cell_type": "code",
   "execution_count": 5,
   "id": "0c82216d-c199-4ffd-92b0-919a07253074",
   "metadata": {},
   "outputs": [
    {
     "data": {
      "text/plain": [
       "'Maruti'"
      ]
     },
     "execution_count": 5,
     "metadata": {},
     "output_type": "execute_result"
    }
   ],
   "source": [
    "car1.make"
   ]
  },
  {
   "cell_type": "code",
   "execution_count": 6,
   "id": "aa2a300d-ca88-42ce-ac8c-8833fc991f6a",
   "metadata": {},
   "outputs": [
    {
     "data": {
      "text/plain": [
       "'Baleno'"
      ]
     },
     "execution_count": 6,
     "metadata": {},
     "output_type": "execute_result"
    }
   ],
   "source": [
    "car1.model"
   ]
  },
  {
   "cell_type": "code",
   "execution_count": 7,
   "id": "4fabd171-3994-4e38-921a-cde8acd598c5",
   "metadata": {},
   "outputs": [
    {
     "data": {
      "text/plain": [
       "2023"
      ]
     },
     "execution_count": 7,
     "metadata": {},
     "output_type": "execute_result"
    }
   ],
   "source": [
    "car1.year"
   ]
  },
  {
   "cell_type": "markdown",
   "id": "50cf25ba-6e90-453a-b925-aed0e14bc70c",
   "metadata": {},
   "source": [
    "### Q2. Name the four pillars of OOPs."
   ]
  },
  {
   "cell_type": "markdown",
   "id": "6323be2c-c59f-4408-8e8d-5017b0e651bd",
   "metadata": {},
   "source": [
    "Four Pillars of python are:\n",
    "1. Encapsulation: Encapsulation is the principle of bundling data (attributes) and methods (behaviors) together within a class. Encapsulation helps in achieving information hiding and improves code maintainability and reusability.\n",
    "\n",
    "2. Inheritance: Inheritance is a mechanism that allows a class to inherit the properties and behaviors of another class. The class that inherits from another class is called a subclass or derived class, while the class being inherited from is called a superclass or base class.\n",
    "\n",
    "3. Polymorphism: Polymorphism refers to the ability of objects of different classes to respond to the same message (method call) in different ways. It allows objects to be treated as instances of their own class or as instances of their superclass.\n",
    "\n",
    "4. Abstraction: Abstraction involves representing complex real-world entities as simplified models within a program. Abstraction is achieved through abstract classes and interfaces, which define a common interface and a set of methods that subclasses must implement."
   ]
  },
  {
   "cell_type": "markdown",
   "id": "8f2189ec-744d-42b6-b0eb-171bf63aa2d2",
   "metadata": {},
   "source": [
    "### Q3. Explain why the __init__() function is used. Give a suitable example."
   ]
  },
  {
   "cell_type": "markdown",
   "id": "ae081b0d-eb89-49f3-9004-23b5550c92f3",
   "metadata": {},
   "source": [
    "__init__ is an inbuilt function which is used to pass data, specific to an object.\n",
    "It is also called constructor."
   ]
  },
  {
   "cell_type": "markdown",
   "id": "79d7d2e5-ebcb-41fd-9066-dae8d56910b9",
   "metadata": {},
   "source": [
    "### Example:"
   ]
  },
  {
   "cell_type": "code",
   "execution_count": 9,
   "id": "36d4ccaa-6b6c-4df5-8a97-292ca721c78b",
   "metadata": {},
   "outputs": [],
   "source": [
    "class pwskills:\n",
    "    def __init__(self,phone_number, email_id, student_id):\n",
    "        self.phone_number = phone_number\n",
    "        self.email_id = email_id\n",
    "        self.student_id = student_id\n",
    "\n",
    "    def return_student_details(self):\n",
    "        return self.phone_number, self.email_id, self.student_id"
   ]
  },
  {
   "cell_type": "code",
   "execution_count": 11,
   "id": "f1d51056-a399-48b2-bca2-d479c904c1fa",
   "metadata": {},
   "outputs": [],
   "source": [
    "Tabish = pwskills(9879878998, \"tabish@gmail.com\",9004)"
   ]
  },
  {
   "cell_type": "code",
   "execution_count": 14,
   "id": "0c1b0af7-0227-40ab-b3f8-2be89001c885",
   "metadata": {},
   "outputs": [
    {
     "data": {
      "text/plain": [
       "(9879878998, 'tabish@gmail.com', 9004)"
      ]
     },
     "execution_count": 14,
     "metadata": {},
     "output_type": "execute_result"
    }
   ],
   "source": [
    "Tabish.return_student_details()"
   ]
  },
  {
   "cell_type": "markdown",
   "id": "c34c4674-5064-4038-ab02-8acec718ddae",
   "metadata": {},
   "source": [
    "### Q4. Why self is used in OOPs?"
   ]
  },
  {
   "cell_type": "markdown",
   "id": "72d34f53-e881-49ad-937a-30adcd1744f0",
   "metadata": {},
   "source": [
    "### Answer"
   ]
  },
  {
   "cell_type": "markdown",
   "id": "4f21976e-1d8c-4b64-a259-4b8610d96787",
   "metadata": {},
   "source": [
    "To access a class-variable within the class we use self with it.\n",
    "\n",
    "Class only recognize the variables which has 'self' attached with it.\n",
    "\n",
    "So in order to access a class- varibale within or outside the class we must use the variable which has 'self' attached with it.\n",
    "\n",
    "Also 'self' is not a reserved keyword. We can use any str or word isntead of 'self'."
   ]
  },
  {
   "cell_type": "markdown",
   "id": "8bdad2e8-c5cd-4709-8982-35fcfc9ce2b9",
   "metadata": {},
   "source": [
    "### Q5. What is inheritance? Give an example for each type of inheritance."
   ]
  },
  {
   "cell_type": "markdown",
   "id": "a259b8d2-d277-487d-ba71-163f42bf00ef",
   "metadata": {},
   "source": [
    "Inheritance is a fundamental concept in object-oriented programming (OOP) that allows a class to inherit properties and behaviors from another class. \n",
    "\n",
    "The class that inherits from another class is called a subclass or child class, and the class being inherited from is called a superclass or parent class."
   ]
  },
  {
   "cell_type": "markdown",
   "id": "fe0c4f94-2cd3-4b7e-bc49-2cccd4e6a7a5",
   "metadata": {},
   "source": [
    "There are several types of inheritance, including:\n",
    "\n"
   ]
  },
  {
   "cell_type": "markdown",
   "id": "d0ee2222-cf4d-4625-949a-06d518b1b466",
   "metadata": {},
   "source": [
    "1. Single Inheritance: Single inheritance involves one class inheriting from a single base class. It forms a parent-child relationship, where the child class inherits all the attributes and methods of the parent class. Here's an example:"
   ]
  },
  {
   "cell_type": "code",
   "execution_count": 15,
   "id": "f78643fc-c787-46c5-afc6-e52c6043b06a",
   "metadata": {},
   "outputs": [
    {
     "name": "stdout",
     "output_type": "stream",
     "text": [
      "Buddy is eating.\n",
      "Buddy is barking.\n"
     ]
    }
   ],
   "source": [
    "class Animal:\n",
    "    def __init__(self, name):\n",
    "        self.name = name\n",
    "\n",
    "    def eat(self):\n",
    "        print(f\"{self.name} is eating.\")\n",
    "\n",
    "class Dog(Animal):\n",
    "    def bark(self):\n",
    "        print(f\"{self.name} is barking.\")\n",
    "\n",
    "dog = Dog(\"Buddy\")\n",
    "dog.eat()  \n",
    "dog.bark() "
   ]
  },
  {
   "cell_type": "markdown",
   "id": "5aa00305-2a5c-454e-a879-be3600586f02",
   "metadata": {},
   "source": [
    "2. Multiple Inheritance: Multiple inheritance involves a class inheriting from more than one base class. It allows a class to inherit attributes and methods from multiple classes. Here's an example:"
   ]
  },
  {
   "cell_type": "code",
   "execution_count": 16,
   "id": "4d608311-21e8-49f3-9fa1-8b3cbdaabef5",
   "metadata": {},
   "outputs": [
    {
     "name": "stdout",
     "output_type": "stream",
     "text": [
      "Car started.\n",
      "Electric charging.\n"
     ]
    }
   ],
   "source": [
    "class Car:\n",
    "    def start(self):\n",
    "        print(\"Car started.\")\n",
    "\n",
    "class Electric:\n",
    "    def charge(self):\n",
    "        print(\"Electric charging.\")\n",
    "\n",
    "class HybridCar(Car, Electric):\n",
    "    pass\n",
    "\n",
    "hybrid_car = HybridCar()\n",
    "hybrid_car.start()\n",
    "hybrid_car.charge()"
   ]
  },
  {
   "cell_type": "markdown",
   "id": "fd1e6b2d-114e-4202-b9f9-41a646d81b13",
   "metadata": {},
   "source": [
    "3. Multilevel Inheritance: Multilevel inheritance involves a chain of inheritance, where a subclass inherits from another subclass, which in turn inherits from another class. Here's an example:"
   ]
  },
  {
   "cell_type": "code",
   "execution_count": 17,
   "id": "1a590c94-8597-4140-8399-f0cd7d7c2a43",
   "metadata": {},
   "outputs": [
    {
     "name": "stdout",
     "output_type": "stream",
     "text": [
      "Spike is eating.\n",
      "Spike is barking.\n",
      "Spike is guarding.\n"
     ]
    }
   ],
   "source": [
    "class Animal:\n",
    "    def __init__(self, name):\n",
    "        self.name = name\n",
    "\n",
    "    def eat(self):\n",
    "        print(f\"{self.name} is eating.\")\n",
    "\n",
    "class Dog(Animal):\n",
    "    def bark(self):\n",
    "        print(f\"{self.name} is barking.\")\n",
    "\n",
    "class Bulldog(Dog):\n",
    "    def guard(self):\n",
    "        print(f\"{self.name} is guarding.\")\n",
    "\n",
    "bulldog = Bulldog(\"Spike\")\n",
    "bulldog.eat()  # Output: Spike is eating.\n",
    "bulldog.bark()  # Output: Spike is barking.\n",
    "bulldog.guard()  # Output: Spike is guarding.\n"
   ]
  },
  {
   "cell_type": "code",
   "execution_count": null,
   "id": "bc06ecfb-dfc3-440b-8bac-b16415a9b91f",
   "metadata": {},
   "outputs": [],
   "source": []
  }
 ],
 "metadata": {
  "kernelspec": {
   "display_name": "Python 3 (ipykernel)",
   "language": "python",
   "name": "python3"
  },
  "language_info": {
   "codemirror_mode": {
    "name": "ipython",
    "version": 3
   },
   "file_extension": ".py",
   "mimetype": "text/x-python",
   "name": "python",
   "nbconvert_exporter": "python",
   "pygments_lexer": "ipython3",
   "version": "3.10.8"
  }
 },
 "nbformat": 4,
 "nbformat_minor": 5
}
